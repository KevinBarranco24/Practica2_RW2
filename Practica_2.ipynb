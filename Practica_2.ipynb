{
  "nbformat": 4,
  "nbformat_minor": 0,
  "metadata": {
    "colab": {
      "provenance": [],
      "authorship_tag": "ABX9TyOha5IGzoQOTkUUflcH+JLG",
      "include_colab_link": true
    },
    "kernelspec": {
      "name": "python3",
      "display_name": "Python 3"
    },
    "language_info": {
      "name": "python"
    }
  },
  "cells": [
    {
      "cell_type": "markdown",
      "metadata": {
        "id": "view-in-github",
        "colab_type": "text"
      },
      "source": [
        "<a href=\"https://colab.research.google.com/github/KevinBarranco24/Practica2_RW2/blob/main/Practica_2.ipynb\" target=\"_parent\"><img src=\"https://colab.research.google.com/assets/colab-badge.svg\" alt=\"Open In Colab\"/></a>"
      ]
    },
    {
      "cell_type": "markdown",
      "source": [
        "# Practica 2\n",
        "##Random Walks II\n",
        "\n",
        "###Kevin Kristop Morales Barranco - 214603492\n",
        "\n"
      ],
      "metadata": {
        "id": "zxgG2TE3ydz7"
      }
    },
    {
      "cell_type": "markdown",
      "source": [
        "##MODULES"
      ],
      "metadata": {
        "id": "C5xE9bu448je"
      }
    },
    {
      "cell_type": "code",
      "execution_count": 1,
      "metadata": {
        "id": "AKJ5hExVwOiL"
      },
      "outputs": [],
      "source": [
        "import math\n",
        "import numpy as np\n",
        "\n",
        "import matplotlib.pyplot as plt\n",
        "import plotly.graph_objects as go\n",
        "\n",
        "from scipy.stats import exponweib\n",
        "\n",
        "import pandas as pd\n",
        "from scipy.stats import levy_stable"
      ]
    },
    {
      "cell_type": "markdown",
      "source": [
        "#**Actividad 1: Lévy distribution - N Curvas (3 pts)**\n",
        " * Generar al menos las 4 curvas de distribución tipo Lévy stable que se observan en la imagen y graficarlas en una sola figura con plotly.\n",
        " * Cada una de las curvas corresponde a un valor distinto de alpha.\n",
        " * Considere los siguientes parametros para las curvas a generar: m = 3.0, beta = 0."
      ],
      "metadata": {
        "id": "_yk3JIfCC8In"
      }
    },
    {
      "cell_type": "code",
      "source": [
        "miu = 3.0\n",
        "Levy_exponent = [0.7, 0.5, 0.1, 0.6]\n",
        "beta = 0\n",
        "Levy_pdf = list()\n",
        "\n",
        "aux_domain = np.linspace(miu-5, miu+5, 400)\n",
        "\n",
        "for i in range(len(Levy_exponent)):\n",
        "  Levy_pdf.append(np.array([levy_stable.pdf(i, alpha=Levy_exponent[i], beta=beta, loc=miu) for j in aux_domain]))"
      ],
      "metadata": {
        "id": "p-SelHvq5BMk"
      },
      "execution_count": 3,
      "outputs": []
    },
    {
      "cell_type": "markdown",
      "source": [],
      "metadata": {
        "id": "5YS5pXJFPVay"
      }
    }
  ]
}